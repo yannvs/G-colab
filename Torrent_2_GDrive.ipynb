{
  "nbformat": 4,
  "nbformat_minor": 0,
  "metadata": {
    "colab": {
      "provenance": [],
      "collapsed_sections": [],
      "authorship_tag": "ABX9TyO2riorp2FXN1nUj8zNBUz2",
      "include_colab_link": true
    },
    "kernelspec": {
      "name": "python3",
      "display_name": "Python 3"
    },
    "language_info": {
      "name": "python"
    }
  },
  "cells": [
    {
      "cell_type": "markdown",
      "metadata": {
        "id": "view-in-github",
        "colab_type": "text"
      },
      "source": [
        "<a href=\"https://colab.research.google.com/github/yannvs/G-colab/blob/main/Torrent_2_GDrive.ipynb\" target=\"_parent\"><img src=\"https://colab.research.google.com/assets/colab-badge.svg\" alt=\"Open In Colab\"/></a>"
      ]
    },
    {
      "cell_type": "code",
      "execution_count": null,
      "metadata": {
        "cellView": "form",
        "id": "BGaS38ppAahY"
      },
      "outputs": [],
      "source": [
        "#@markdown <h4>Monte o GDrive</h4>\n",
        "!npm install -g localtunnel\n",
        "from google.colab import drive\n",
        "drive.mount('/content/drive')"
      ]
    },
    {
      "cell_type": "code",
      "source": [
        "#@markdown <h3>Instale o QBittorrent (poderá utilizar por 1 hora)</h3>\n",
        "import os, time, urllib.request, json; from IPython.display import clear_output\n",
        "\n",
        "if os.path.isfile(\"/usr/bin/qbittorrent-nox\") == False:\n",
        "    get_ipython().system_raw(\"apt update -qq -y && yes \"\" | add-apt-repository ppa:qbittorrent-team/qbittorrent-stable\")\n",
        "    get_ipython().system_raw(\"apt install qbittorrent-nox\")\n",
        "    get_ipython().system_raw(\"mkdir -p -m 666 /{content/qBittorrent,root/{.qBittorrent_temp,.config/qBittorrent}} && curl -s https://pastebin.com/raw/CEDGr9Ve -o /root/.config/qBittorrent/qBittorrent.conf\")\n",
        "    print(\"qBittorrent successfully installed.\")\n",
        "    clear_output(wait=True)\n",
        "else:\n",
        "    print(\"qBittorrent already installed. Skipping...\")\n",
        "    clear_output(wait=True)\n",
        "    !pkill qbittorrent-nox\n",
        "    \n",
        "!qbittorrent-nox -d --webui-port=5454\n",
        "print(\"qBittorrent started\")\n",
        "clear_output(wait=True)\n",
        "\n",
        "!lt --port 5454\n",
        "\n",
        "#Manter cell ativa por 60 minutos\n",
        "t_end = time.time() + 60 * 60\n",
        "while time.time() < t_end:\n",
        "    time.sleep(60)"
      ],
      "metadata": {
        "id": "wVRguEumAyqd",
        "cellView": "form"
      },
      "execution_count": null,
      "outputs": []
    },
    {
      "cell_type": "markdown",
      "source": [
        "1 **Após o download terminar, pode demorar alguns segundos/minutos para os arquivos aparecerem.**\n",
        "\n",
        " Quanto maior o arquivo, maior o tempo necessário."
      ],
      "metadata": {
        "id": "faGlIkZxC3nI"
      }
    },
    {
      "cell_type": "markdown",
      "source": [
        "2 **Use com consciência**.\n",
        "\n",
        "Quando terminar de utilizar, **encerre a sessão** e libere os recursos que são disponibilizados gratuitamente.\n",
        "\n",
        "\n",
        "```\n",
        "Clique na *setinha para baixo*, perto do topo direito.\n",
        "Clique em *Manage Sessions*\n",
        "Clique em *Terminate*\n",
        "```\n",
        "\n",
        "\n"
      ],
      "metadata": {
        "id": "_hBuI9_DBe1h"
      }
    },
    {
      "cell_type": "markdown",
      "source": [
        "3 **NÃO é necessário fazer este passo**, pois já foi implementada outra solução.\n",
        "Mas manterei aqui caso eu precise do código futuramente.\n",
        "\n",
        "\n",
        "Se o download demorar muito, você poderá ser desconectado antes de terminar.\n",
        "Execute este código para prevenir a interrupção.\n",
        "\n",
        "```\n",
        "Ctrl + Shift + i\n",
        "```\n",
        "Vá até Console e cole este código\n",
        "\n",
        "```\n",
        "function ConnectButton(){\n",
        "    console.log(\"Connect pushed\"); \n",
        "    document.querySelector(\"#top-toolbar > colab-connect-button\").shadowRoot.querySelector(\"#connect\").click() \n",
        "}\n",
        "setInterval(ConnectButton,60000);\n",
        "```\n",
        "Isso impedirá que se desconecte."
      ],
      "metadata": {
        "id": "uKZWJZmx3XBs"
      }
    }
  ]
}